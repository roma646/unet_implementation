{
  "nbformat": 4,
  "nbformat_minor": 0,
  "metadata": {
    "colab": {
      "name": "my_unet.ipynb",
      "provenance": [],
      "collapsed_sections": []
    },
    "kernelspec": {
      "name": "python3",
      "display_name": "Python 3"
    },
    "language_info": {
      "name": "python"
    },
    "widgets": {
      "application/vnd.jupyter.widget-state+json": {
        "3341b669ba004ad0ae254ba050ecba0d": {
          "model_module": "@jupyter-widgets/controls",
          "model_name": "HBoxModel",
          "state": {
            "_view_name": "HBoxView",
            "_dom_classes": [],
            "_model_name": "HBoxModel",
            "_view_module": "@jupyter-widgets/controls",
            "_model_module_version": "1.5.0",
            "_view_count": null,
            "_view_module_version": "1.5.0",
            "box_style": "",
            "layout": "IPY_MODEL_b825970ca1e942cfaa1524971de43bcc",
            "_model_module": "@jupyter-widgets/controls",
            "children": [
              "IPY_MODEL_302d080e6cae4326b2040c8f1a9d8020",
              "IPY_MODEL_9ccf5b4ba1b04d11a29525aba441db46"
            ]
          }
        },
        "b825970ca1e942cfaa1524971de43bcc": {
          "model_module": "@jupyter-widgets/base",
          "model_name": "LayoutModel",
          "state": {
            "_view_name": "LayoutView",
            "grid_template_rows": null,
            "right": null,
            "justify_content": null,
            "_view_module": "@jupyter-widgets/base",
            "overflow": null,
            "_model_module_version": "1.2.0",
            "_view_count": null,
            "flex_flow": null,
            "width": null,
            "min_width": null,
            "border": null,
            "align_items": null,
            "bottom": null,
            "_model_module": "@jupyter-widgets/base",
            "top": null,
            "grid_column": null,
            "overflow_y": null,
            "overflow_x": null,
            "grid_auto_flow": null,
            "grid_area": null,
            "grid_template_columns": null,
            "flex": null,
            "_model_name": "LayoutModel",
            "justify_items": null,
            "grid_row": null,
            "max_height": null,
            "align_content": null,
            "visibility": null,
            "align_self": null,
            "height": null,
            "min_height": null,
            "padding": null,
            "grid_auto_rows": null,
            "grid_gap": null,
            "max_width": null,
            "order": null,
            "_view_module_version": "1.2.0",
            "grid_template_areas": null,
            "object_position": null,
            "object_fit": null,
            "grid_auto_columns": null,
            "margin": null,
            "display": null,
            "left": null
          }
        },
        "302d080e6cae4326b2040c8f1a9d8020": {
          "model_module": "@jupyter-widgets/controls",
          "model_name": "FloatProgressModel",
          "state": {
            "_view_name": "ProgressView",
            "style": "IPY_MODEL_90d945eb16a842e6b9d8d803c34203bd",
            "_dom_classes": [],
            "description": "  0%",
            "_model_name": "FloatProgressModel",
            "bar_style": "",
            "max": 170,
            "_view_module": "@jupyter-widgets/controls",
            "_model_module_version": "1.5.0",
            "value": 0,
            "_view_count": null,
            "_view_module_version": "1.5.0",
            "orientation": "horizontal",
            "min": 0,
            "description_tooltip": null,
            "_model_module": "@jupyter-widgets/controls",
            "layout": "IPY_MODEL_c4f172aa955a4a8292787c3a37e1a40d"
          }
        },
        "9ccf5b4ba1b04d11a29525aba441db46": {
          "model_module": "@jupyter-widgets/controls",
          "model_name": "HTMLModel",
          "state": {
            "_view_name": "HTMLView",
            "style": "IPY_MODEL_70a67aa97d55424c8b6c4da34c12050e",
            "_dom_classes": [],
            "description": "",
            "_model_name": "HTMLModel",
            "placeholder": "​",
            "_view_module": "@jupyter-widgets/controls",
            "_model_module_version": "1.5.0",
            "value": " 0/170 [00:00&lt;?, ?it/s]",
            "_view_count": null,
            "_view_module_version": "1.5.0",
            "description_tooltip": null,
            "_model_module": "@jupyter-widgets/controls",
            "layout": "IPY_MODEL_2f8490372e6c4d2588865113dda5c5ca"
          }
        },
        "90d945eb16a842e6b9d8d803c34203bd": {
          "model_module": "@jupyter-widgets/controls",
          "model_name": "ProgressStyleModel",
          "state": {
            "_view_name": "StyleView",
            "_model_name": "ProgressStyleModel",
            "description_width": "initial",
            "_view_module": "@jupyter-widgets/base",
            "_model_module_version": "1.5.0",
            "_view_count": null,
            "_view_module_version": "1.2.0",
            "bar_color": null,
            "_model_module": "@jupyter-widgets/controls"
          }
        },
        "c4f172aa955a4a8292787c3a37e1a40d": {
          "model_module": "@jupyter-widgets/base",
          "model_name": "LayoutModel",
          "state": {
            "_view_name": "LayoutView",
            "grid_template_rows": null,
            "right": null,
            "justify_content": null,
            "_view_module": "@jupyter-widgets/base",
            "overflow": null,
            "_model_module_version": "1.2.0",
            "_view_count": null,
            "flex_flow": null,
            "width": null,
            "min_width": null,
            "border": null,
            "align_items": null,
            "bottom": null,
            "_model_module": "@jupyter-widgets/base",
            "top": null,
            "grid_column": null,
            "overflow_y": null,
            "overflow_x": null,
            "grid_auto_flow": null,
            "grid_area": null,
            "grid_template_columns": null,
            "flex": null,
            "_model_name": "LayoutModel",
            "justify_items": null,
            "grid_row": null,
            "max_height": null,
            "align_content": null,
            "visibility": null,
            "align_self": null,
            "height": null,
            "min_height": null,
            "padding": null,
            "grid_auto_rows": null,
            "grid_gap": null,
            "max_width": null,
            "order": null,
            "_view_module_version": "1.2.0",
            "grid_template_areas": null,
            "object_position": null,
            "object_fit": null,
            "grid_auto_columns": null,
            "margin": null,
            "display": null,
            "left": null
          }
        },
        "70a67aa97d55424c8b6c4da34c12050e": {
          "model_module": "@jupyter-widgets/controls",
          "model_name": "DescriptionStyleModel",
          "state": {
            "_view_name": "StyleView",
            "_model_name": "DescriptionStyleModel",
            "description_width": "",
            "_view_module": "@jupyter-widgets/base",
            "_model_module_version": "1.5.0",
            "_view_count": null,
            "_view_module_version": "1.2.0",
            "_model_module": "@jupyter-widgets/controls"
          }
        },
        "2f8490372e6c4d2588865113dda5c5ca": {
          "model_module": "@jupyter-widgets/base",
          "model_name": "LayoutModel",
          "state": {
            "_view_name": "LayoutView",
            "grid_template_rows": null,
            "right": null,
            "justify_content": null,
            "_view_module": "@jupyter-widgets/base",
            "overflow": null,
            "_model_module_version": "1.2.0",
            "_view_count": null,
            "flex_flow": null,
            "width": null,
            "min_width": null,
            "border": null,
            "align_items": null,
            "bottom": null,
            "_model_module": "@jupyter-widgets/base",
            "top": null,
            "grid_column": null,
            "overflow_y": null,
            "overflow_x": null,
            "grid_auto_flow": null,
            "grid_area": null,
            "grid_template_columns": null,
            "flex": null,
            "_model_name": "LayoutModel",
            "justify_items": null,
            "grid_row": null,
            "max_height": null,
            "align_content": null,
            "visibility": null,
            "align_self": null,
            "height": null,
            "min_height": null,
            "padding": null,
            "grid_auto_rows": null,
            "grid_gap": null,
            "max_width": null,
            "order": null,
            "_view_module_version": "1.2.0",
            "grid_template_areas": null,
            "object_position": null,
            "object_fit": null,
            "grid_auto_columns": null,
            "margin": null,
            "display": null,
            "left": null
          }
        }
      }
    },
    "accelerator": "GPU"
  },
  "cells": [
    {
      "cell_type": "code",
      "metadata": {
        "id": "n8frVhxs5FNa"
      },
      "source": [
        "import pandas as pd\n",
        "import numpy as np\n",
        "import torch\n",
        "import torch.nn as nn\n",
        "import torchvision\n",
        "import matplotlib.pyplot as plt\n",
        "import os\n",
        "from torch.utils.data import DataLoader\n",
        "import PIL\n",
        "from PIL import Image\n",
        "from torchvision import transforms\n",
        "from torch import cuda\n",
        "from tqdm.notebook import tqdm\n",
        "from torchvision.transforms.functional import InterpolationMode\n"
      ],
      "execution_count": null,
      "outputs": []
    },
    {
      "cell_type": "code",
      "metadata": {
        "colab": {
          "base_uri": "https://localhost:8080/"
        },
        "id": "ioclwe3Z2P7Z",
        "outputId": "fa7e22c0-0c8d-459e-fff2-58710287217b"
      },
      "source": [
        "from google.colab import drive\n",
        "drive.mount('/content/drive/')\n"
      ],
      "execution_count": null,
      "outputs": [
        {
          "output_type": "stream",
          "text": [
            "Drive already mounted at /content/drive/; to attempt to forcibly remount, call drive.mount(\"/content/drive/\", force_remount=True).\n"
          ],
          "name": "stdout"
        }
      ]
    },
    {
      "cell_type": "code",
      "metadata": {
        "id": "CnoUUNGzIjP6"
      },
      "source": [
        "class My_train_dataset():\n",
        "  def __init__(self, path, shape=256):\n",
        "    self.path = path + 'train/'\n",
        "    self.data = pd.read_csv(path + 'train_masks.csv')\n",
        "    self.train_transfroms = transforms.Compose([\n",
        "    transforms.ToTensor(),\n",
        "    transforms.Resize((256, 256))\n",
        "    ])\n",
        "\n",
        "\n",
        "  def rle_decode(self, mask_rle, shape=(1280, 1918, 1)):\n",
        "    '''\n",
        "    mask_rle: run-length as string formated (start length)\n",
        "    shape: (height,width) of array to return \n",
        "    Returns numpy array, 1 - mask, 0 - background\n",
        "    '''\n",
        "    img = np.zeros(shape[0]*shape[1], dtype=np.uint8)\n",
        "\n",
        "    s = mask_rle.split()\n",
        "    starts, lengths = [np.asarray(x, dtype=int) for x in (s[0:][::2], s[1:][::2])]\n",
        "    starts -= 1\n",
        "    ends = starts + lengths    \n",
        "    for lo, hi in zip(starts, ends):\n",
        "        img[lo:hi] = 1\n",
        "        \n",
        "    img = img.reshape(shape)\n",
        "    return img\n",
        "\n",
        "  def __len__(self):\n",
        "    return len(self.data)\n",
        "\n",
        "  def __getitem__(self, key):\n",
        "    return (self.train_transfroms(Image.open(self.path + self.data['img'][key])), self.train_transfroms(self.rle_decode(self.data['rle_mask'][key])))\n",
        "\n"
      ],
      "execution_count": null,
      "outputs": []
    },
    {
      "cell_type": "code",
      "metadata": {
        "id": "MrX7m-omO1hG"
      },
      "source": [
        "batch_size = 30\n",
        "image_shape = 256\n",
        "dataset = My_train_dataset('drive/MyDrive/data_seg/', shape=image_shape)\n",
        "\n",
        "train_dataloader = DataLoader(dataset, batch_size=batch_size, shuffle=True)"
      ],
      "execution_count": null,
      "outputs": []
    },
    {
      "cell_type": "code",
      "metadata": {
        "id": "Xzo5rhNUQlsy",
        "colab": {
          "base_uri": "https://localhost:8080/",
          "height": 222
        },
        "outputId": "ae729d1a-863d-4794-b095-54e536b4e31a"
      },
      "source": [
        "i = 15\n",
        "f, (ax1, ax2) = plt.subplots(1, 2, sharey=True)\n",
        "ax1.imshow(transforms.ToPILImage()(dataset[i][0]).convert(\"RGB\"))\n",
        "ax2.imshow(transforms.ToPILImage()(dataset[i][1]))"
      ],
      "execution_count": null,
      "outputs": [
        {
          "output_type": "execute_result",
          "data": {
            "text/plain": [
              "<matplotlib.image.AxesImage at 0x7faa35cf4ad0>"
            ]
          },
          "metadata": {
            "tags": []
          },
          "execution_count": 8
        },
        {
          "output_type": "display_data",
          "data": {
            "image/png": "[encoded data removed]",
            "text/plain": [
              "<Figure size 432x288 with 2 Axes>"
            ]
          },
          "metadata": {
            "tags": [],
            "needs_background": "light"
          }
        }
      ]
    },
    {
      "cell_type": "code",
      "metadata": {
        "id": "2_ya1S1k5R9E"
      },
      "source": [
        "class My_unet(nn.Module):\n",
        "  def __init__(self):\n",
        "    super(My_unet, self).__init__()\n",
        "    self.relu = nn.ReLU()\n",
        "    self.maxpool = nn.MaxPool2d(2, stride=2)\n",
        "    self.softmax = nn.LogSoftmax(dim=1)\n",
        "    self.conv0_1 = nn.Conv2d(3, 32, 3, stride=1)\n",
        "    self.conv0_2 = nn.Conv2d(32, 64, 3, stride=1)\n",
        "    self.conv1_1 = nn.Conv2d(64, 64, 3, stride=1)\n",
        "    self.conv1_2 = nn.Conv2d(64, 64, 3, stride=1)\n",
        "    self.conv2_1 = nn.Conv2d(64, 64, 3, stride=1)\n",
        "    self.conv2_2 = nn.Conv2d(64, 64, 3, stride=1)\n",
        "    self.conv3_1 = nn.Conv2d(64, 64, 1, stride=1)\n",
        "    self.conv3_2 = nn.Conv2d(64, 64, 1, stride=1)\n",
        "    self.conv4_1 = nn.Conv2d(128, 64, 1, stride=1)\n",
        "    self.conv4_2 = nn.Conv2d(64, 64, 1, stride=1)\n",
        "    self.conv5_1 = nn.Conv2d(128, 64, 1, stride=1)\n",
        "    self.conv5_2 = nn.Conv2d(64, 64, 1, stride=1)\n",
        "    self.conv6_1 = nn.Conv2d(64, 64, 1, stride=1)\n",
        "    self.conv6_2 = nn.Conv2d(64, 64, 1, stride=1)\n",
        "    self.conv7_1 = nn.Conv2d(128, 64, 1, stride=1)\n",
        "    self.conv7_2 = nn.Conv2d(64, 64, 1, stride=1)\n",
        "    self.conv8_1 = nn.Conv2d(64, 32, 1, stride=1)\n",
        "    self.conv8_2 = nn.Conv2d(32, 2, 1, stride=1)\n",
        "    self.upconv1 = nn.ConvTranspose2d(64, 64, 66, stride=1)\n",
        "    self.upconv2 = nn.ConvTranspose2d(64, 64, 66, stride=1)\n",
        "    self.upconv3 = nn.ConvTranspose2d(64, 64, 66, stride=1)\n",
        "    self.upconv4 = nn.ConvTranspose2d(64, 64, 5, stride=1)\n",
        "  \n",
        "  def forward(self, x): \n",
        "    x = self.conv0_1(x) \n",
        "    x = self.relu(x)\n",
        "    x = self.conv0_2(x) \n",
        "    x = self.relu(x)\n",
        "    x1 = self.maxpool(x) \n",
        "    x1 = self.conv1_1(x1) \n",
        "    x1 = self.relu(x1)\n",
        "    x1 = self.conv1_2(x1) \n",
        "    x1 = self.relu(x1)\n",
        "    x2 = self.maxpool(x1) \n",
        "    x2 = self.conv2_1(x2) \n",
        "    x2 = self.relu(x2)\n",
        "    x2 = self.conv2_2(x2) \n",
        "    x2 = self.relu(x2)\n",
        "\n",
        "    #decoder\n",
        "    x3 = self.conv3_1(x2)\n",
        "    x3 = self.relu(x3)\n",
        "    x3 = self.conv3_2(x3)\n",
        "    x3 = self.relu(x3) \n",
        "    x3 = torch.cat((x3, x2), dim=1) \n",
        "    x3 = self.conv4_1(x3)\n",
        "    x3 = self.relu(x3)\n",
        "    x3 = self.conv4_2(x3)\n",
        "    x3 = self.relu(x3)\n",
        "    x3 = self.upconv1(x3)\n",
        "    x3 = torch.cat((x3, x1), dim=1)\n",
        "    x3 = self.conv5_1(x3)\n",
        "    x3 = self.relu(x3)\n",
        "    x3 = self.conv5_2(x3)\n",
        "    x3 = self.relu(x3)\n",
        "    x3 = self.upconv2(x3)\n",
        "    x3 = self.conv6_1(x3)\n",
        "    x3 = self.relu(x3)\n",
        "    x3 = self.conv6_2(x3)\n",
        "    x3 = self.relu(x3)\n",
        "    x3 = self.upconv3(x3)\n",
        "    x3 = torch.cat((x3, x), dim=1)\n",
        "    x3 = self.conv7_1(x3)\n",
        "    x3 = self.relu(x3)\n",
        "    x3 = self.conv7_2(x3)\n",
        "    x3 = self.relu(x3)\n",
        "    x3 = self.upconv4(x3)\n",
        "    x3 = self.conv8_1(x3)\n",
        "    x3 = self.conv8_2(x3)\n",
        "    x3 = self.softmax(x3)\n",
        "    return x3"
      ],
      "execution_count": null,
      "outputs": []
    },
    {
      "cell_type": "code",
      "metadata": {
        "colab": {
          "base_uri": "https://localhost:8080/",
          "height": 36
        },
        "id": "9A4mJNcdLLSj",
        "outputId": "9acfc836-03ae-4639-d041-71dcf5577bfb"
      },
      "source": [
        "model = My_unet()\n",
        "model_path = 'drive/MyDrive/seg_model0_1'\n",
        "model.load_state_dict(torch.load(model_path))\n",
        "for param in model.parameters():\n",
        "    param.requires_grad = True\n",
        "\n",
        "device = 'cuda' if cuda.is_available() else 'cpu'\n",
        "model.to(device)\n",
        "device"
      ],
      "execution_count": null,
      "outputs": [
        {
          "output_type": "execute_result",
          "data": {
            "application/vnd.google.colaboratory.intrinsic+json": {
              "type": "string"
            },
            "text/plain": [
              "'cuda'"
            ]
          },
          "metadata": {
            "tags": []
          },
          "execution_count": 10
        }
      ]
    },
    {
      "cell_type": "code",
      "metadata": {
        "id": "W_GT6KHL-dK4",
        "colab": {
          "base_uri": "https://localhost:8080/",
          "height": 236
        },
        "outputId": "44f441aa-c1e6-46e2-d293-910486df4721"
      },
      "source": [
        "def train_model(model, loss, optimizer, scheduler, num_epochs, batch_size=batch_size, image_shape=image_shape):\n",
        "    loss = nn.NLLLoss()\n",
        "    for epoch in range(num_epochs):\n",
        "        print('Epoch {}/{}:'.format(epoch, num_epochs - 1), flush=True)\n",
        "\n",
        "        # Iterate over data.\n",
        "        for inputs, labels in tqdm(train_dataloader):\n",
        "          inputs = inputs.to(device)   #requires_grad = True\n",
        "          labels = (labels * 300).to('cpu').reshape(-1, image_shape, image_shape).type(torch.LongTensor)\n",
        "\n",
        "          optimizer.zero_grad()\n",
        "          # forward and backward\n",
        "          preds = model(inputs)\n",
        "          loss_value = loss(preds.to('cpu'), labels)\n",
        "\n",
        "          loss_value.backward()\n",
        "          optimizer.step()\n",
        "        torch.save(model.state_dict(), 'drive/MyDrive/seg_model2')\n",
        "\n",
        "    return model   \n",
        "    \n",
        "    "
      ],
      "execution_count": null,
      "outputs": [
        {
          "output_type": "error",
          "ename": "NameError",
          "evalue": "ignored",
          "traceback": [
            "\u001b[0;31m---------------------------------------------------------------------------\u001b[0m",
            "\u001b[0;31mNameError\u001b[0m                                 Traceback (most recent call last)",
            "\u001b[0;32m<ipython-input-1-201f44b963e3>\u001b[0m in \u001b[0;36m<module>\u001b[0;34m()\u001b[0m\n\u001b[0;32m----> 1\u001b[0;31m \u001b[0;32mdef\u001b[0m \u001b[0mtrain_model\u001b[0m\u001b[0;34m(\u001b[0m\u001b[0mmodel\u001b[0m\u001b[0;34m,\u001b[0m \u001b[0mloss\u001b[0m\u001b[0;34m,\u001b[0m \u001b[0moptimizer\u001b[0m\u001b[0;34m,\u001b[0m \u001b[0mscheduler\u001b[0m\u001b[0;34m,\u001b[0m \u001b[0mnum_epochs\u001b[0m\u001b[0;34m,\u001b[0m \u001b[0mbatch_size\u001b[0m\u001b[0;34m=\u001b[0m\u001b[0mbatch_size\u001b[0m\u001b[0;34m,\u001b[0m \u001b[0mimage_shape\u001b[0m\u001b[0;34m=\u001b[0m\u001b[0mimage_shape\u001b[0m\u001b[0;34m)\u001b[0m\u001b[0;34m:\u001b[0m\u001b[0;34m\u001b[0m\u001b[0;34m\u001b[0m\u001b[0m\n\u001b[0m\u001b[1;32m      2\u001b[0m     \u001b[0mloss\u001b[0m \u001b[0;34m=\u001b[0m \u001b[0mnn\u001b[0m\u001b[0;34m.\u001b[0m\u001b[0mNLLLoss\u001b[0m\u001b[0;34m(\u001b[0m\u001b[0;34m)\u001b[0m\u001b[0;34m\u001b[0m\u001b[0;34m\u001b[0m\u001b[0m\n\u001b[1;32m      3\u001b[0m     \u001b[0;32mfor\u001b[0m \u001b[0mepoch\u001b[0m \u001b[0;32min\u001b[0m \u001b[0mrange\u001b[0m\u001b[0;34m(\u001b[0m\u001b[0mnum_epochs\u001b[0m\u001b[0;34m)\u001b[0m\u001b[0;34m:\u001b[0m\u001b[0;34m\u001b[0m\u001b[0;34m\u001b[0m\u001b[0m\n\u001b[1;32m      4\u001b[0m         \u001b[0mprint\u001b[0m\u001b[0;34m(\u001b[0m\u001b[0;34m'Epoch {}/{}:'\u001b[0m\u001b[0;34m.\u001b[0m\u001b[0mformat\u001b[0m\u001b[0;34m(\u001b[0m\u001b[0mepoch\u001b[0m\u001b[0;34m,\u001b[0m \u001b[0mnum_epochs\u001b[0m \u001b[0;34m-\u001b[0m \u001b[0;36m1\u001b[0m\u001b[0;34m)\u001b[0m\u001b[0;34m,\u001b[0m \u001b[0mflush\u001b[0m\u001b[0;34m=\u001b[0m\u001b[0;32mTrue\u001b[0m\u001b[0;34m)\u001b[0m\u001b[0;34m\u001b[0m\u001b[0;34m\u001b[0m\u001b[0m\n\u001b[1;32m      5\u001b[0m \u001b[0;34m\u001b[0m\u001b[0m\n",
            "\u001b[0;31mNameError\u001b[0m: name 'batch_size' is not defined"
          ]
        }
      ]
    },
    {
      "cell_type": "code",
      "metadata": {
        "colab": {
          "base_uri": "https://localhost:8080/",
          "height": 66,
          "referenced_widgets": [
            "3341b669ba004ad0ae254ba050ecba0d",
            "b825970ca1e942cfaa1524971de43bcc",
            "302d080e6cae4326b2040c8f1a9d8020",
            "9ccf5b4ba1b04d11a29525aba441db46",
            "90d945eb16a842e6b9d8d803c34203bd",
            "c4f172aa955a4a8292787c3a37e1a40d",
            "70a67aa97d55424c8b6c4da34c12050e",
            "2f8490372e6c4d2588865113dda5c5ca"
          ]
        },
        "id": "XGJpu5NQtyiO",
        "outputId": "4e7a1ed8-f1cc-4679-80c2-d214be157f3f"
      },
      "source": [
        "loss1 = nn.NLLLoss()\n",
        "optimizer = torch.optim.Adam(model.parameters(), amsgrad=True, lr=5.0e-3)\n",
        "scheduler = torch.optim.lr_scheduler.StepLR(optimizer, step_size=7, gamma=0.15)\n",
        "\n",
        "train_model(model, loss1, optimizer, scheduler, 10)"
      ],
      "execution_count": null,
      "outputs": [
        {
          "output_type": "stream",
          "text": [
            "Epoch 0/9:\n"
          ],
          "name": "stdout"
        },
        {
          "output_type": "display_data",
          "data": {
            "application/vnd.jupyter.widget-view+json": {
              "model_id": "3341b669ba004ad0ae254ba050ecba0d",
              "version_minor": 0,
              "version_major": 2
            },
            "text/plain": [
              "HBox(children=(FloatProgress(value=0.0, max=170.0), HTML(value='')))"
            ]
          },
          "metadata": {
            "tags": []
          }
        }
      ]
    },
    {
      "cell_type": "code",
      "metadata": {
        "id": "7yAC7_WxBgVL"
      },
      "source": [
        "torch.save(model.state_dict(), model_path)"
      ],
      "execution_count": null,
      "outputs": []
    },
    {
      "cell_type": "code",
      "metadata": {
        "colab": {
          "base_uri": "https://localhost:8080/",
          "height": 222
        },
        "id": "BlGruUxuE59H",
        "outputId": "b63bafa8-66e8-4f0f-e5f3-c1685ee3b850"
      },
      "source": [
        "# for input, target in train_dataloader:\n",
        "#  break\n",
        "\n",
        "# model.to(device)\n",
        "# pred = torch.argmax(model(input.to(device)), dim=1)\n",
        "# target = ((target * 300).type(torch.LongTensor).numpy())\n",
        "\n",
        "i = 19\n",
        "f, (ax1, ax2) = plt.subplots(1, 2, sharey=True)\n",
        "ax1.imshow(transforms.ToPILImage()(pred[i].type(torch.FloatTensor)))\n",
        "ax2.imshow(target[i][0])"
      ],
      "execution_count": null,
      "outputs": [
        {
          "output_type": "execute_result",
          "data": {
            "text/plain": [
              "<matplotlib.image.AxesImage at 0x7faa2b0e1e50>"
            ]
          },
          "metadata": {
            "tags": []
          },
          "execution_count": 29
        },
        {
          "output_type": "display_data",
          "data": {
            "image/png": "[encoded data removed]",
            "text/plain": [
              "<Figure size 432x288 with 2 Axes>"
            ]
          },
          "metadata": {
            "tags": [],
            "needs_background": "light"
          }
        }
      ]
    },
    {
      "cell_type": "code",
      "metadata": {
        "id": "TyM9GSDB46Z5"
      },
      "source": [
        ""
      ],
      "execution_count": null,
      "outputs": []
    }
  ]
}